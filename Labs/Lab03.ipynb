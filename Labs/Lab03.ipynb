{
  "nbformat": 4,
  "nbformat_minor": 0,
  "metadata": {
    "colab": {
      "provenance": []
    },
    "kernelspec": {
      "name": "python3",
      "display_name": "Python 3"
    },
    "language_info": {
      "name": "python"
    }
  },
  "cells": [
    {
      "cell_type": "markdown",
      "source": [
        "TASK 1"
      ],
      "metadata": {
        "id": "rvprVZdJHsho"
      }
    },
    {
      "cell_type": "code",
      "source": [
        "import pandas as pd\n",
        "from sklearn.neighbors import KNeighborsClassifier\n",
        "from sklearn.metrics import accuracy_score\n",
        "\n",
        "df_train = pd.read_csv(r'/content/datatraining.txt')\n",
        "df_test = pd.read_csv(r'/content/datatest.txt')\n",
        "\n",
        "# print(df_train.columns)\n",
        "# print(df_test.columns)\n",
        "\n",
        "features = ['Humidity','Light','HumidityRatio']\n",
        "\n",
        "X_train = df_train[features]\n",
        "y_train = df_train['Occupancy']\n",
        "\n",
        "X_test = df_test[features]\n",
        "y_test = df_test['Occupancy']\n",
        "\n",
        "accuracies = []\n",
        "\n",
        "for k in range(1, 11):\n",
        "    knn = KNeighborsClassifier(n_neighbors=k)\n",
        "    knn.fit(X_train, y_train)\n",
        "    y_pred = knn.predict(X_test)\n",
        "    accuracy = accuracy_score(y_test, y_pred)\n",
        "    accuracies.append(accuracy)\n",
        "    print(f\"K={k}, Accuracy={accuracy:.4f}\")\n",
        "\n",
        "best_accuracy = max(accuracies)\n",
        "best_k = accuracies.index(best_accuracy) + 1\n",
        "\n",
        "print(\"\\nBest Accuracy:\", round(best_accuracy, 4), \"at K =\", best_k)\n"
      ],
      "metadata": {
        "colab": {
          "base_uri": "https://localhost:8080/"
        },
        "id": "skm9YuEQHtne",
        "outputId": "cffd7f32-76a1-4b26-a053-935b6ddde822"
      },
      "execution_count": 32,
      "outputs": [
        {
          "output_type": "stream",
          "name": "stdout",
          "text": [
            "K=1, Accuracy=0.9403\n",
            "K=2, Accuracy=0.9253\n",
            "K=3, Accuracy=0.9572\n",
            "K=4, Accuracy=0.9448\n",
            "K=5, Accuracy=0.9553\n",
            "K=6, Accuracy=0.9527\n",
            "K=7, Accuracy=0.9632\n",
            "K=8, Accuracy=0.9614\n",
            "K=9, Accuracy=0.9647\n",
            "K=10, Accuracy=0.9647\n",
            "\n",
            "Best Accuracy: 0.9647 at K = 9\n"
          ]
        }
      ]
    },
    {
      "cell_type": "markdown",
      "source": [
        "TASK 2\n"
      ],
      "metadata": {
        "id": "Y3e2bQ-IQOlx"
      }
    },
    {
      "cell_type": "code",
      "source": [
        "import numpy as np\n",
        "from sklearn.datasets import load_iris\n",
        "from sklearn.model_selection import train_test_split\n",
        "from collections import Counter\n",
        "from sklearn.metrics import confusion_matrix, accuracy_score\n",
        "\n",
        "def chi_squared_distance(x1, x2, epsilon=1e-10):\n",
        "    return np.sum((x1 - x2) ** 2 / (x1 + x2 + epsilon))\n",
        "\n",
        "class KNNClassifier:\n",
        "    def __init__(self, k=3):\n",
        "        self.k = k\n",
        "\n",
        "    def fit(self, X, y):\n",
        "        self.X_train = X\n",
        "        self.y_train = y\n",
        "\n",
        "    def predict_one(self, x):\n",
        "        distances = [chi_squared_distance(x_train, x) for x_train in self.X_train]\n",
        "        k_idx = np.argsort(distances)[:self.k]\n",
        "        k_labels = [self.y_train[i] for i in k_idx]\n",
        "        most_common = Counter(k_labels).most_common(1)\n",
        "        return most_common[0][0]\n",
        "\n",
        "    def predict(self, X):\n",
        "        return [self.predict_one(x) for x in X]\n",
        "\n",
        "iris = load_iris()\n",
        "X = iris.data\n",
        "y = iris.target\n",
        "\n",
        "X_train, X_test, y_train, y_test = train_test_split(\n",
        "    X, y, test_size=0.2, random_state=42, stratify=y\n",
        ")\n",
        "\n",
        "clf = KNNClassifier(k=3)\n",
        "clf.fit(X_train, y_train)\n",
        "y_pred = clf.predict(X_test)\n",
        "\n",
        "acc = accuracy_score(y_test, y_pred)\n",
        "cm = confusion_matrix(y_test, y_pred)\n",
        "\n",
        "print(f\"Accuracy: {acc:.4f}\")\n",
        "print(\"Confusion Matrix:\")\n",
        "print(cm)\n"
      ],
      "metadata": {
        "colab": {
          "base_uri": "https://localhost:8080/"
        },
        "id": "Wv6qgSNZQQc9",
        "outputId": "35f07c39-7fb3-4842-b5f7-37e22dee6143"
      },
      "execution_count": 34,
      "outputs": [
        {
          "output_type": "stream",
          "name": "stdout",
          "text": [
            "Accuracy: 0.9667\n",
            "Confusion Matrix:\n",
            "[[10  0  0]\n",
            " [ 0 10  0]\n",
            " [ 0  1  9]]\n"
          ]
        }
      ]
    },
    {
      "cell_type": "markdown",
      "source": [
        "TASK 3"
      ],
      "metadata": {
        "id": "7nLvrJ-KLg1d"
      }
    },
    {
      "cell_type": "code",
      "source": [
        "import pandas as pd\n",
        "import numpy as np\n",
        "from sklearn.neighbors import KNeighborsClassifier\n",
        "from sklearn.metrics import accuracy_score,confusion_matrix,classification_report\n",
        "from sklearn.model_selection import train_test_split\n",
        "\n",
        "df = pd.read_csv(r'/content/cancer patient data sets.csv')\n",
        "\n",
        "df.columns"
      ],
      "metadata": {
        "colab": {
          "base_uri": "https://localhost:8080/"
        },
        "id": "Jeh9i2WyLiVy",
        "outputId": "49918fe0-1a6c-45d4-947d-ee1d89fae0e3"
      },
      "execution_count": 22,
      "outputs": [
        {
          "output_type": "execute_result",
          "data": {
            "text/plain": [
              "Index(['index', 'Patient Id', 'Age', 'Gender', 'Air Pollution', 'Alcohol use',\n",
              "       'Dust Allergy', 'OccuPational Hazards', 'Genetic Risk',\n",
              "       'chronic Lung Disease', 'Balanced Diet', 'Obesity', 'Smoking',\n",
              "       'Passive Smoker', 'Chest Pain', 'Coughing of Blood', 'Fatigue',\n",
              "       'Weight Loss', 'Shortness of Breath', 'Wheezing',\n",
              "       'Swallowing Difficulty', 'Clubbing of Finger Nails', 'Frequent Cold',\n",
              "       'Dry Cough', 'Snoring', 'Level'],\n",
              "      dtype='object')"
            ]
          },
          "metadata": {},
          "execution_count": 22
        }
      ]
    },
    {
      "cell_type": "code",
      "source": [
        "print(df.describe)\n",
        "print(df['Level'].value_counts())"
      ],
      "metadata": {
        "colab": {
          "base_uri": "https://localhost:8080/"
        },
        "id": "dUrhQvQyMnxe",
        "outputId": "55284108-7ddd-49db-a32c-ee72b7d6d91e"
      },
      "execution_count": 23,
      "outputs": [
        {
          "output_type": "stream",
          "name": "stdout",
          "text": [
            "<bound method NDFrame.describe of      index Patient Id  Age  Gender  Air Pollution  Alcohol use  Dust Allergy  \\\n",
            "0        0         P1   33       1              2            4             5   \n",
            "1        1        P10   17       1              3            1             5   \n",
            "2        2       P100   35       1              4            5             6   \n",
            "3        3      P1000   37       1              7            7             7   \n",
            "4        4       P101   46       1              6            8             7   \n",
            "..     ...        ...  ...     ...            ...          ...           ...   \n",
            "995    995       P995   44       1              6            7             7   \n",
            "996    996       P996   37       2              6            8             7   \n",
            "997    997       P997   25       2              4            5             6   \n",
            "998    998       P998   18       2              6            8             7   \n",
            "999    999       P999   47       1              6            5             6   \n",
            "\n",
            "     OccuPational Hazards  Genetic Risk  chronic Lung Disease  ...  Fatigue  \\\n",
            "0                       4             3                     2  ...        3   \n",
            "1                       3             4                     2  ...        1   \n",
            "2                       5             5                     4  ...        8   \n",
            "3                       7             6                     7  ...        4   \n",
            "4                       7             7                     6  ...        3   \n",
            "..                    ...           ...                   ...  ...      ...   \n",
            "995                     7             7                     6  ...        5   \n",
            "996                     7             7                     6  ...        9   \n",
            "997                     5             5                     4  ...        8   \n",
            "998                     7             7                     6  ...        3   \n",
            "999                     5             5                     4  ...        8   \n",
            "\n",
            "     Weight Loss  Shortness of Breath  Wheezing  Swallowing Difficulty  \\\n",
            "0              4                    2         2                      3   \n",
            "1              3                    7         8                      6   \n",
            "2              7                    9         2                      1   \n",
            "3              2                    3         1                      4   \n",
            "4              2                    4         1                      4   \n",
            "..           ...                  ...       ...                    ...   \n",
            "995            3                    2         7                      8   \n",
            "996            6                    5         7                      2   \n",
            "997            7                    9         2                      1   \n",
            "998            2                    4         1                      4   \n",
            "999            7                    9         2                      1   \n",
            "\n",
            "     Clubbing of Finger Nails  Frequent Cold  Dry Cough  Snoring   Level  \n",
            "0                           1              2          3        4     Low  \n",
            "1                           2              1          7        2  Medium  \n",
            "2                           4              6          7        2    High  \n",
            "3                           5              6          7        5    High  \n",
            "4                           2              4          2        3    High  \n",
            "..                        ...            ...        ...      ...     ...  \n",
            "995                         2              4          5        3    High  \n",
            "996                         4              3          1        4    High  \n",
            "997                         4              6          7        2    High  \n",
            "998                         2              4          2        3    High  \n",
            "999                         4              6          7        2    High  \n",
            "\n",
            "[1000 rows x 26 columns]>\n",
            "Level\n",
            "High      365\n",
            "Medium    332\n",
            "Low       303\n",
            "Name: count, dtype: int64\n"
          ]
        }
      ]
    },
    {
      "cell_type": "code",
      "source": [
        "print(\"\\nMissing values:\\n\",df.isnull().sum())\n",
        "print(\"\\nCategorical features:\",df.select_dtypes(include=['object','category']).columns.tolist())\n",
        "print(\"\\nNumber of duplicates:\", df.duplicated().sum())"
      ],
      "metadata": {
        "colab": {
          "base_uri": "https://localhost:8080/"
        },
        "id": "c8m7CKwoNKYh",
        "outputId": "8a93ae24-dbf8-4f07-f90d-17f8188c5ab9"
      },
      "execution_count": 24,
      "outputs": [
        {
          "output_type": "stream",
          "name": "stdout",
          "text": [
            "\n",
            "Missing values:\n",
            " index                       0\n",
            "Patient Id                  0\n",
            "Age                         0\n",
            "Gender                      0\n",
            "Air Pollution               0\n",
            "Alcohol use                 0\n",
            "Dust Allergy                0\n",
            "OccuPational Hazards        0\n",
            "Genetic Risk                0\n",
            "chronic Lung Disease        0\n",
            "Balanced Diet               0\n",
            "Obesity                     0\n",
            "Smoking                     0\n",
            "Passive Smoker              0\n",
            "Chest Pain                  0\n",
            "Coughing of Blood           0\n",
            "Fatigue                     0\n",
            "Weight Loss                 0\n",
            "Shortness of Breath         0\n",
            "Wheezing                    0\n",
            "Swallowing Difficulty       0\n",
            "Clubbing of Finger Nails    0\n",
            "Frequent Cold               0\n",
            "Dry Cough                   0\n",
            "Snoring                     0\n",
            "Level                       0\n",
            "dtype: int64\n",
            "\n",
            "Categorical features: ['Patient Id', 'Level']\n",
            "\n",
            "Number of duplicates: 0\n"
          ]
        }
      ]
    },
    {
      "cell_type": "markdown",
      "source": [],
      "metadata": {
        "id": "lM6BvPlDOuGS"
      }
    },
    {
      "cell_type": "code",
      "source": [
        "from sklearn.preprocessing import LabelEncoder, StandardScaler\n",
        "\n",
        "df_encoded = df.copy()\n",
        "\n",
        "df_encoded = df_encoded.drop(columns=['index', 'Patient Id'])\n",
        "\n",
        "for col in df_encoded.columns:\n",
        "    if df_encoded[col].dtype == 'object':\n",
        "        le = LabelEncoder()\n",
        "        df_encoded[col] = le.fit_transform(df_encoded[col].astype(str))\n",
        "\n",
        "corr_matrix = df_encoded.corr(method='pearson')\n",
        "\n",
        "print(\"\\nCorrelation with target (Level):\")\n",
        "print(corr_matrix['Level'].sort_values(ascending=False))\n",
        "\n",
        "selected_features = corr_matrix['Level'].drop('Level').abs()\n",
        "selected_features = selected_features[selected_features > 0.2].index.tolist()\n",
        "print(\"\\nSelected features:\", selected_features)\n",
        "\n",
        "X = df_encoded[selected_features]\n",
        "y = df_encoded['Level']"
      ],
      "metadata": {
        "colab": {
          "base_uri": "https://localhost:8080/"
        },
        "id": "FNNSSIrPNv04",
        "outputId": "9afdd055-ef9b-415c-b222-6fa6a11a7457"
      },
      "execution_count": 25,
      "outputs": [
        {
          "output_type": "stream",
          "name": "stdout",
          "text": [
            "\n",
            "Correlation with target (Level):\n",
            "Level                       1.000000\n",
            "Wheezing                    0.167773\n",
            "Clubbing of Finger Nails    0.116746\n",
            "Gender                      0.086222\n",
            "Age                         0.042631\n",
            "Snoring                     0.014280\n",
            "Swallowing Difficulty      -0.012880\n",
            "Weight Loss                -0.020537\n",
            "Shortness of Breath        -0.140178\n",
            "Frequent Cold              -0.171678\n",
            "Dry Cough                  -0.228720\n",
            "Dust Allergy               -0.264926\n",
            "OccuPational Hazards       -0.363748\n",
            "Fatigue                    -0.403276\n",
            "Genetic Risk               -0.423382\n",
            "chronic Lung Disease       -0.432405\n",
            "Alcohol use                -0.434071\n",
            "Chest Pain                 -0.494704\n",
            "Obesity                    -0.561961\n",
            "Air Pollution              -0.577269\n",
            "Smoking                    -0.611087\n",
            "Balanced Diet              -0.618781\n",
            "Coughing of Blood          -0.631118\n",
            "Passive Smoker             -0.638409\n",
            "Name: Level, dtype: float64\n",
            "\n",
            "Selected features: ['Air Pollution', 'Alcohol use', 'Dust Allergy', 'OccuPational Hazards', 'Genetic Risk', 'chronic Lung Disease', 'Balanced Diet', 'Obesity', 'Smoking', 'Passive Smoker', 'Chest Pain', 'Coughing of Blood', 'Fatigue', 'Dry Cough']\n"
          ]
        }
      ]
    },
    {
      "cell_type": "code",
      "source": [
        "scaler = StandardScaler()\n",
        "\n",
        "random_state = 0\n",
        "X_train_val,X_test,y_train_val,y_test = train_test_split(X,y,test_size=0.2,random_state=random_state, stratify=y)\n",
        "\n",
        "\n",
        "X_train, X_val, y_train, y_val = train_test_split(\n",
        "    X_train_val, y_train_val, test_size=0.30, random_state=random_state, stratify=y_train_val\n",
        ")\n",
        "\n",
        "print(\"Train:\", X_train.shape, \"Val:\", X_val.shape, \"Test:\", X_test.shape)\n",
        "\n",
        "scaler.fit(X_train)\n",
        "X_train_s = scaler.transform(X_train)\n",
        "X_val_s = scaler.transform(X_val)\n",
        "X_test_s = scaler.transform(X_test)\n",
        "\n"
      ],
      "metadata": {
        "colab": {
          "base_uri": "https://localhost:8080/"
        },
        "id": "eKBR_58cOnbj",
        "outputId": "75493e6d-170e-4c6e-9ce0-15685aaa3b34"
      },
      "execution_count": 26,
      "outputs": [
        {
          "output_type": "stream",
          "name": "stdout",
          "text": [
            "Train: (560, 14) Val: (240, 14) Test: (200, 14)\n"
          ]
        }
      ]
    },
    {
      "cell_type": "code",
      "source": [
        "metrics = [\n",
        "    ('euclidean', {'metric':'minkowski','p':2}),\n",
        "    ('manhattan', {'metric':'minkowski','p':1}),\n",
        "    ('chebyshev', {'metric':'chebyshev'})\n",
        "]\n",
        "results = []\n",
        "\n",
        "for name, params in metrics:\n",
        "    if params['metric'] == 'minkowski':\n",
        "        knn = KNeighborsClassifier(n_neighbors=5, metric='minkowski', p=params['p'])\n",
        "    else:\n",
        "        knn = KNeighborsClassifier(n_neighbors=5, metric=params['metric'])\n",
        "\n",
        "    knn.fit(X_train_s, y_train)\n",
        "\n",
        "    acc_train = accuracy_score(y_train, knn.predict(X_train_s))\n",
        "    acc_val = accuracy_score(y_val, knn.predict(X_val_s))\n",
        "    acc_test = accuracy_score(y_test, knn.predict(X_test_s))\n",
        "\n",
        "    cm_test = confusion_matrix(y_test, knn.predict(X_test_s))\n",
        "\n",
        "    results.append({\n",
        "        'Metric': name,\n",
        "        'Train Acc': acc_train,\n",
        "        'Val Acc': acc_val,\n",
        "        'Test Acc': acc_test,\n",
        "        'Confusion Matrix': cm_test\n",
        "    })"
      ],
      "metadata": {
        "id": "pxichmsFPcdz"
      },
      "execution_count": 27,
      "outputs": []
    },
    {
      "cell_type": "code",
      "source": [
        "res_df = pd.DataFrame(results).drop(columns=['Confusion Matrix'])\n",
        "print(\"\\nAccuracy Comparison:\")\n",
        "print(res_df)\n",
        "\n",
        "for r in results:\n",
        "    print(f\"\\nConfusion Matrix ({r['Metric']}):\\n\", r['Confusion Matrix'])\n",
        "\n",
        "best = max(results, key=lambda x: x['Val Acc'])\n",
        "print(f\"\\nBest metric by validation accuracy: {best['Metric']}\")\n",
        "\n",
        "if best['Metric'] == 'euclidean':\n",
        "    best_knn = KNeighborsClassifier(n_neighbors=5, metric='minkowski', p=2)\n",
        "elif best['Metric'] == 'manhattan':\n",
        "    best_knn = KNeighborsClassifier(n_neighbors=5, metric='minkowski', p=1)\n",
        "else:\n",
        "    best_knn = KNeighborsClassifier(n_neighbors=5, metric='chebyshev')\n",
        "\n",
        "best_knn.fit(X_train_s, y_train)\n",
        "y_test_pred = best_knn.predict(X_test_s)\n",
        "\n",
        "print(\"\\nClassification Report:\")\n",
        "print(classification_report(y_test, y_test_pred))"
      ],
      "metadata": {
        "colab": {
          "base_uri": "https://localhost:8080/"
        },
        "id": "YQdNp9BJPzD3",
        "outputId": "22566bce-b371-4d8d-d1c5-7e0b4ca5687b"
      },
      "execution_count": 28,
      "outputs": [
        {
          "output_type": "stream",
          "name": "stdout",
          "text": [
            "\n",
            "Accuracy Comparison:\n",
            "      Metric  Train Acc  Val Acc  Test Acc\n",
            "0  euclidean        1.0      1.0       1.0\n",
            "1  manhattan        1.0      1.0       1.0\n",
            "2  chebyshev        1.0      1.0       1.0\n",
            "\n",
            "Confusion Matrix (euclidean):\n",
            " [[73  0  0]\n",
            " [ 0 61  0]\n",
            " [ 0  0 66]]\n",
            "\n",
            "Confusion Matrix (manhattan):\n",
            " [[73  0  0]\n",
            " [ 0 61  0]\n",
            " [ 0  0 66]]\n",
            "\n",
            "Confusion Matrix (chebyshev):\n",
            " [[73  0  0]\n",
            " [ 0 61  0]\n",
            " [ 0  0 66]]\n",
            "\n",
            "Best metric by validation accuracy: euclidean\n",
            "\n",
            "Classification Report:\n",
            "              precision    recall  f1-score   support\n",
            "\n",
            "           0       1.00      1.00      1.00        73\n",
            "           1       1.00      1.00      1.00        61\n",
            "           2       1.00      1.00      1.00        66\n",
            "\n",
            "    accuracy                           1.00       200\n",
            "   macro avg       1.00      1.00      1.00       200\n",
            "weighted avg       1.00      1.00      1.00       200\n",
            "\n"
          ]
        }
      ]
    }
  ]
}